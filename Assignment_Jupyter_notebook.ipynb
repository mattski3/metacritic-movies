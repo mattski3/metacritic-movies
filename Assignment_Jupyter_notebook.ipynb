{
 "cells": [
  {
   "cell_type": "markdown",
   "metadata": {},
   "source": [
    "### Matthew Lorbeski\n",
    "### April 10, 2024\n",
    "### Data320 Bellevue College \n",
    "### Assignment: Jupyter Notebook\n",
    "\n",
    "#### The task of this assignment is to contact Metacritic at the url of our choice, retrieve the contents of the page, use regular expressions what were used in a previous web scraping task, convert the data into an array of information about the movies, and then display the array in a well formatted fashion."
   ]
  },
  {
   "cell_type": "markdown",
   "metadata": {},
   "source": [
    "##### Importing required libraries"
   ]
  },
  {
   "cell_type": "code",
   "execution_count": 68,
   "metadata": {},
   "outputs": [],
   "source": [
    "import urllib3\n",
    "import certifi\n",
    "import re\n",
    "from IPython.display import Image, display\n"
   ]
  },
  {
   "cell_type": "markdown",
   "metadata": {},
   "source": [
    "##### Setting up the url to be used and the HTML source code. To double check that the process worked, I used the print function to tell me how much data was fetched."
   ]
  },
  {
   "cell_type": "code",
   "execution_count": 69,
   "metadata": {},
   "outputs": [
    {
     "name": "stdout",
     "output_type": "stream",
     "text": [
      "Fetched 362586 characters from https://www.metacritic.com/browse/movie/all/all/1988/.\n"
     ]
    }
   ],
   "source": [
    "http = urllib3.PoolManager(ca_certs=certifi.where())\n",
    "\n",
    "url = 'https://www.metacritic.com/browse/movie/all/all/1988/'\n",
    "\n",
    "user_agent =  'Mozilla/5.0 (Windows NT 10.0; Win64; x64; rv:105.0) Gecko/20100101 Firefox/105.0' # From tspence github\n",
    "\n",
    "response = http.request('GET', url, headers={'User-Agent': user_agent})\n",
    "\n",
    "datastring = str(response.data,'utf-8')\n",
    "\n",
    "print(f\"Fetched {len(datastring)} characters from {url}.\")"
   ]
  },
  {
   "cell_type": "markdown",
   "metadata": {},
   "source": [
    "##### Establishing the 'titles' variable for all of the fetched movie titles and displaying a summary of how many titles were found to make sure the counts stay equal."
   ]
  },
  {
   "cell_type": "code",
   "execution_count": 70,
   "metadata": {},
   "outputs": [
    {
     "name": "stdout",
     "output_type": "stream",
     "text": [
      "Found 24 titles.\n"
     ]
    }
   ],
   "source": [
    "titles = re.findall((r'<div data-title=\"(.*?)\"'), datastring)\n",
    "\n",
    "print(f\"Found {len(titles)} titles.\")"
   ]
  },
  {
   "cell_type": "markdown",
   "metadata": {},
   "source": [
    "##### Establishing the 'release_date' variable for all of the fetched movie release dates and displaying a summary of how many dates were found to make sure the counts stay equal."
   ]
  },
  {
   "cell_type": "code",
   "execution_count": 71,
   "metadata": {},
   "outputs": [
    {
     "name": "stdout",
     "output_type": "stream",
     "text": [
      "Found 24 release dates.\n"
     ]
    }
   ],
   "source": [
    "release_date = re.findall((r'\\b(?:Jan|Feb|Mar|Apr|May|Jun|Jul|Aug|Sep|Oct|Nov|Dec)\\s+\\d{1,2},\\s+\\d{4}\\b'), datastring)\n",
    "\n",
    "print(f\"Found {len(release_date)} release dates.\")"
   ]
  },
  {
   "cell_type": "markdown",
   "metadata": {},
   "source": [
    "##### Establishing the 'meta_score' variable for all of the fetched movie meta scores and displaying a summary of how many scores were found to make sure the counts stay equal."
   ]
  },
  {
   "cell_type": "code",
   "execution_count": 72,
   "metadata": {},
   "outputs": [
    {
     "name": "stdout",
     "output_type": "stream",
     "text": [
      "Found 24 meta scores.\n"
     ]
    }
   ],
   "source": [
    "meta_score = re.findall(r'<div title=\"Metascore (\\d+)', datastring)\n",
    "\n",
    "print(f\"Found {len(meta_score)} meta scores.\")"
   ]
  },
  {
   "cell_type": "markdown",
   "metadata": {},
   "source": [
    "##### Establishing the 'thumbnail_raw' and 'thumbnail_fixed' variable for all of the fetched movie thumbnail's and displaying a summary of how many images were found to make sure the counts stay equal. In the thumbnail_fixed variable, used the replace function to replace the '&amp;' with '&' so hyperlinks would work."
   ]
  },
  {
   "cell_type": "code",
   "execution_count": 73,
   "metadata": {},
   "outputs": [
    {
     "name": "stdout",
     "output_type": "stream",
     "text": [
      "Found 24 thumbnails.\n"
     ]
    }
   ],
   "source": [
    "thumbnail_raw = re.findall((r'<picture class=\"c-cmsImage\"> <img src=\"(.*?)\" height'), datastring)\n",
    "\n",
    "thumbnail_fixed = [url.replace('&amp;', '&').replace(';', '') for url in thumbnail_raw]\n",
    "\n",
    "print(f\"Found {len(thumbnail_fixed)} thumbnails.\")"
   ]
  },
  {
   "cell_type": "markdown",
   "metadata": {},
   "source": [
    "##### Establishing the 'description' variable for all of the fetched movie descriptions and displaying a summary of how many descriptions were found to make sure the counts stay equal."
   ]
  },
  {
   "cell_type": "code",
   "execution_count": 74,
   "metadata": {},
   "outputs": [
    {
     "name": "stdout",
     "output_type": "stream",
     "text": [
      "Found 24 descriptions.\n"
     ]
    }
   ],
   "source": [
    "description = re.findall((r'<div class=\"c-finderProductCard_description\"><span>([\\s\\S]*?)\\s?<\\/span>'), datastring)\n",
    "\n",
    "print(f\"Found {len(description)} descriptions.\")"
   ]
  },
  {
   "cell_type": "markdown",
   "metadata": {},
   "source": [
    "##### Establishing the 'movie_data' variable that contains the information in a list and printing a summary of how many tuples were created to make sure count stays consistant."
   ]
  },
  {
   "cell_type": "code",
   "execution_count": 75,
   "metadata": {},
   "outputs": [
    {
     "name": "stdout",
     "output_type": "stream",
     "text": [
      "Created a list of 24 tuples.\n"
     ]
    }
   ],
   "source": [
    "movie_data = list(zip(titles, release_date, meta_score, thumbnail_fixed, description))\n",
    "\n",
    "print(f\"Created a list of {len(movie_data)} tuples.\")"
   ]
  },
  {
   "cell_type": "markdown",
   "metadata": {},
   "source": [
    "##### Creating a loop to go through the list of movies and display them with all the information per movie. Along with this, producing the image of the thumbnail at the top of each movie."
   ]
  },
  {
   "cell_type": "code",
   "execution_count": 76,
   "metadata": {},
   "outputs": [
    {
     "data": {
      "text/html": [
       "<img src=\"https://www.metacritic.com/a/img/resize/2243577150b9688d221ac4e10613bde9dbc2c4b9/catalog/provider/2/2/2-30b7f0232017aa5ded0e7282acc5fadf.jpg?auto=webp&fit=cover&height=132&width=88\"/>"
      ],
      "text/plain": [
       "<IPython.core.display.Image object>"
      ]
     },
     "metadata": {},
     "output_type": "display_data"
    },
    {
     "name": "stdout",
     "output_type": "stream",
     "text": [
      "Title: Au Revoir les Enfants\n",
      "Release Date: Feb 12, 1988\n",
      "Meta Score: 88\n",
      "Thumbnail: https://www.metacritic.com/a/img/resize/2243577150b9688d221ac4e10613bde9dbc2c4b9/catalog/provider/2/2/2-30b7f0232017aa5ded0e7282acc5fadf.jpg?auto=webp&fit=cover&height=132&width=88\n",
      "Description: A French boarding school run by priests seems to be a haven from World War II until a new student arrives. He becomes the roommate of the top student in his class. Rivals at first, the roommates form a bond and share a secret.\n",
      "\n",
      "\n"
     ]
    },
    {
     "data": {
      "text/html": [
       "<img src=\"https://www.metacritic.com/a/img/resize/0c30c63ec0edaf58629118cb3e9d5fbd5835d559/catalog/provider/2/2/2-f5344568ac504ca2bdc42003f7a67b4e.jpg?auto=webp&fit=cover&height=132&width=88\"/>"
      ],
      "text/plain": [
       "<IPython.core.display.Image object>"
      ]
     },
     "metadata": {},
     "output_type": "display_data"
    },
    {
     "name": "stdout",
     "output_type": "stream",
     "text": [
      "Title: Dead Ringers\n",
      "Release Date: Sep 23, 1988\n",
      "Meta Score: 86\n",
      "Thumbnail: https://www.metacritic.com/a/img/resize/0c30c63ec0edaf58629118cb3e9d5fbd5835d559/catalog/provider/2/2/2-f5344568ac504ca2bdc42003f7a67b4e.jpg?auto=webp&fit=cover&height=132&width=88\n",
      "Description: The chilling story of identical twin gynecologists--suave Elliot and sensitive Beverly, bipolar sides of one personality--who share the same practice, the same apartment, the same women. When a new patient, glamorous actress Claire Niveau, challenges their eerie bond, they descend into a whirlpool of sexual confusion, drugs, and madness. Jeremy Irons' tour-de-force performance--as both twins?raises disturbing questions about the nature of personal identity. (Criterion Collection)\n",
      "\n",
      "\n"
     ]
    },
    {
     "data": {
      "text/html": [
       "<img src=\"https://www.metacritic.com/a/img/resize/0e2bb78ce502ad459c4df31f5d18ad52eb8dc142/catalog/provider/2/2/2-2e20c70a0366e04d9c76d4cc6c319a31.jpg?auto=webp&fit=cover&height=132&width=88\"/>"
      ],
      "text/plain": [
       "<IPython.core.display.Image object>"
      ]
     },
     "metadata": {},
     "output_type": "display_data"
    },
    {
     "name": "stdout",
     "output_type": "stream",
     "text": [
      "Title: My Neighbor Totoro\n",
      "Release Date: Apr 16, 1988\n",
      "Meta Score: 86\n",
      "Thumbnail: https://www.metacritic.com/a/img/resize/0e2bb78ce502ad459c4df31f5d18ad52eb8dc142/catalog/provider/2/2/2-2e20c70a0366e04d9c76d4cc6c319a31.jpg?auto=webp&fit=cover&height=132&width=88\n",
      "Description: When two girls move to the country to be near their ailing mother, they have adventures with the wondrous forest spirits who live nearby.\n",
      "\n",
      "\n"
     ]
    },
    {
     "data": {
      "text/html": [
       "<img src=\"https://www.metacritic.com/a/img/resize/f78c8fa21fb5ba5f7679448c5f2949decd7e30e2/catalog/provider/2/2/2-671221554fe45de5e395d5ecdbdf7a2e.jpg?auto=webp&fit=cover&height=132&width=88\"/>"
      ],
      "text/plain": [
       "<IPython.core.display.Image object>"
      ]
     },
     "metadata": {},
     "output_type": "display_data"
    },
    {
     "name": "stdout",
     "output_type": "stream",
     "text": [
      "Title: Hope and Glory\n",
      "Release Date: Feb 19, 1988\n",
      "Meta Score: 86\n",
      "Thumbnail: https://www.metacritic.com/a/img/resize/f78c8fa21fb5ba5f7679448c5f2949decd7e30e2/catalog/provider/2/2/2-671221554fe45de5e395d5ecdbdf7a2e.jpg?auto=webp&fit=cover&height=132&width=88\n",
      "Description: Bill, a young boy living on the outskirts of London experiences the exhilaration of World War II. During this period, Bill learns about sex, death, love, hypocrisy, and the faults of adults as he prowls the ruins of bombed houses.\n",
      "\n",
      "\n"
     ]
    },
    {
     "data": {
      "text/html": [
       "<img src=\"https://www.metacritic.com/a/img/resize/d2e54071b53d59679018e24b57a67ba7a6a7ec9c/catalog/provider/2/2/2-bff238804ebbb37cbceaf9343dfae49f.jpg?auto=webp&fit=cover&height=132&width=88\"/>"
      ],
      "text/plain": [
       "<IPython.core.display.Image object>"
      ]
     },
     "metadata": {},
     "output_type": "display_data"
    },
    {
     "name": "stdout",
     "output_type": "stream",
     "text": [
      "Title: Distant Voices, Still Lives\n",
      "Release Date: Sep 11, 1988\n",
      "Meta Score: 86\n",
      "Thumbnail: https://www.metacritic.com/a/img/resize/d2e54071b53d59679018e24b57a67ba7a6a7ec9c/catalog/provider/2/2/2-bff238804ebbb37cbceaf9343dfae49f.jpg?auto=webp&fit=cover&height=132&width=88\n",
      "Description: The second film in Terence Davies's autobiographical series ('Trilogy', 'The Long Day Closes') is an impressionistic view of a working-class family in 1940s and 1950s Liverpool, based on Davies's own family. The first part, 'Distant Voices', opens with grown siblings Eileen (Angela Walsh), Maisie (Lorraine Ashbourne) and Tony (Dean Williams), and their mother (Freda Dowie) arranged in mourning clothes before the photograph of their smiling father (Pete Postlethwaite). Soon after, the family poses in a similar tableau, but for a happier occasion - Eileen's wedding. While relatives sing at her reception, Eileen hysterically grieves for her dad, and recalls happy times of her youth. Tony and Maisie's memories, however, are more troubled. Davies intermingles and contrasts scenes like the family peacefully lighting candles in church with the brutal man beating his wife and terrorizing his young children. In 'Still Lives', set (and filmed) two years later, the siblings are settled in life, but not all happily. For Eileen, relief from her drab existence comes only when singing at the pub. With his skillfully composed frames and evocative use of music in place of dialogue, Davies creates a lovely, affecting photo album of a troubled family wrestling with the complexity of love.\n",
      "\n",
      "\n"
     ]
    },
    {
     "data": {
      "text/html": [
       "<img src=\"https://www.metacritic.com/a/img/resize/7f9053ea0f4a32605fbe09cfe787bfdc87c4d809/catalog/provider/2/2/2-7b77842d3b9684db4bcef97ff881c7fd.jpg?auto=webp&fit=cover&height=132&width=88\"/>"
      ],
      "text/plain": [
       "<IPython.core.display.Image object>"
      ]
     },
     "metadata": {},
     "output_type": "display_data"
    },
    {
     "name": "stdout",
     "output_type": "stream",
     "text": [
      "Title: Women on the Verge of a Nervous Breakdown\n",
      "Release Date: Nov 11, 1988\n",
      "Meta Score: 85\n",
      "Thumbnail: https://www.metacritic.com/a/img/resize/7f9053ea0f4a32605fbe09cfe787bfdc87c4d809/catalog/provider/2/2/2-7b77842d3b9684db4bcef97ff881c7fd.jpg?auto=webp&fit=cover&height=132&width=88\n",
      "Description: The wildly hysterical international box office hit, women on the verge of a nervous breakdown, introduces us to Pepa who has just been jilted by an answering machine. The love of her life, Ivan, has just ended their relationship and she is heartbroken. But misery does love company. (MGM)\n",
      "\n",
      "\n"
     ]
    },
    {
     "data": {
      "text/html": [
       "<img src=\"https://www.metacritic.com/a/img/resize/401f5dafe5a0c4ab7433fc3a9842fcd4c67a74e8/catalog/provider/2/2/2-3f1ad5fbdcae397953c4008f9daf66fd.jpg?auto=webp&fit=cover&height=132&width=88\"/>"
      ],
      "text/plain": [
       "<IPython.core.display.Image object>"
      ]
     },
     "metadata": {},
     "output_type": "display_data"
    },
    {
     "name": "stdout",
     "output_type": "stream",
     "text": [
      "Title: Who Framed Roger Rabbit\n",
      "Release Date: Jun 21, 1988\n",
      "Meta Score: 83\n",
      "Thumbnail: https://www.metacritic.com/a/img/resize/401f5dafe5a0c4ab7433fc3a9842fcd4c67a74e8/catalog/provider/2/2/2-3f1ad5fbdcae397953c4008f9daf66fd.jpg?auto=webp&fit=cover&height=132&width=88\n",
      "Description: Gumshoe detective Eddie Valiant (Hoskins) is on the job in both Hollywood and Toontown, and the line between reality and fantasy gets blurred as Eddie tries to solve a major &quot;who dunnit.&quot; He's thrown for quite a set of curves when he meets Jessica Rabbit, the sultry &quot;toon&quot; who whispers &quot;I'm not bad, I'm just drawn that way.&quot; When Eddie gets mixed up with the fast-talking &quot;toon&quot; Roger Rabbit (Fleischer) he finds himself crossing paths with such characters as the hilarious Baby Herman, Benny the Cab, the sinister Judge Doom and more, in a wacky adventure of a lifetime. (Buena Vista)\n",
      "\n",
      "\n"
     ]
    },
    {
     "data": {
      "text/html": [
       "<img src=\"https://www.metacritic.com/a/img/resize/6242bbdb41be2ac279adbff394be14ea95ade564/catalog/provider/2/2/2-62bb9e5232327bb3102a44c596de2160.jpg?auto=webp&fit=cover&height=132&width=88\"/>"
      ],
      "text/plain": [
       "<IPython.core.display.Image object>"
      ]
     },
     "metadata": {},
     "output_type": "display_data"
    },
    {
     "name": "stdout",
     "output_type": "stream",
     "text": [
      "Title: The Last Temptation of Christ\n",
      "Release Date: Aug 12, 1988\n",
      "Meta Score: 80\n",
      "Thumbnail: https://www.metacritic.com/a/img/resize/6242bbdb41be2ac279adbff394be14ea95ade564/catalog/provider/2/2/2-62bb9e5232327bb3102a44c596de2160.jpg?auto=webp&fit=cover&height=132&width=88\n",
      "Description: A thought-provoking interpretation of the classic tale of Christ, Temptation explores the idea of Christ as a mere mortal, who, at the threshold of self-sacrifice, is tempted by the desire to continue on with his life.\n",
      "\n",
      "\n"
     ]
    },
    {
     "data": {
      "text/html": [
       "<img src=\"https://www.metacritic.com/a/img/resize/9ce2069ffe78b0fa20304a141b79eca0beadcc48/catalog/provider/2/2/2-42efa221f2da093bacca8782589db3f2.jpg?auto=webp&fit=cover&height=132&width=88\"/>"
      ],
      "text/plain": [
       "<IPython.core.display.Image object>"
      ]
     },
     "metadata": {},
     "output_type": "display_data"
    },
    {
     "name": "stdout",
     "output_type": "stream",
     "text": [
      "Title: A Fish Called Wanda\n",
      "Release Date: Jul 29, 1988\n",
      "Meta Score: 80\n",
      "Thumbnail: https://www.metacritic.com/a/img/resize/9ce2069ffe78b0fa20304a141b79eca0beadcc48/catalog/provider/2/2/2-42efa221f2da093bacca8782589db3f2.jpg?auto=webp&fit=cover&height=132&width=88\n",
      "Description: In this zany comedy, four disparate characters (John Cleese, Jamie Lee Curtis, Kevin Kline, and Michael Palin) attempt a daring jewel heist.\n",
      "\n",
      "\n"
     ]
    },
    {
     "data": {
      "text/html": [
       "<img src=\"https://www.metacritic.com/a/img/resize/691414e04621fd8a8cb9302e4f92869cdb558b4b/catalog/provider/5/2/5-tt0093191.jpg?auto=webp&fit=cover&height=132&width=88\"/>"
      ],
      "text/plain": [
       "<IPython.core.display.Image object>"
      ]
     },
     "metadata": {},
     "output_type": "display_data"
    },
    {
     "name": "stdout",
     "output_type": "stream",
     "text": [
      "Title: Wings of Desire\n",
      "Release Date: May 6, 1988\n",
      "Meta Score: 79\n",
      "Thumbnail: https://www.metacritic.com/a/img/resize/691414e04621fd8a8cb9302e4f92869cdb558b4b/catalog/provider/5/2/5-tt0093191.jpg?auto=webp&fit=cover&height=132&width=88\n",
      "Description: Wim Wenders directed this enchanting fantasy about an angel who, while wandering unseen through West Berlin, falls in love with a beautiful circus performer and decides to become human.  (MGM)\n",
      "\n",
      "\n"
     ]
    },
    {
     "data": {
      "text/html": [
       "<img src=\"https://www.metacritic.com/a/img/resize/d71af2dd57bccc2a8058e031a3bc10c80562b2e5/catalog/provider/2/2/2-3764342db5576edd2960e01634a1deae.jpg?auto=webp&fit=cover&height=132&width=88\"/>"
      ],
      "text/plain": [
       "<IPython.core.display.Image object>"
      ]
     },
     "metadata": {},
     "output_type": "display_data"
    },
    {
     "name": "stdout",
     "output_type": "stream",
     "text": [
      "Title: The Thin Blue Line\n",
      "Release Date: Sep 1, 1988\n",
      "Meta Score: 79\n",
      "Thumbnail: https://www.metacritic.com/a/img/resize/d71af2dd57bccc2a8058e031a3bc10c80562b2e5/catalog/provider/2/2/2-3764342db5576edd2960e01634a1deae.jpg?auto=webp&fit=cover&height=132&width=88\n",
      "Description: A documentary which argues that Randall Harris was wrongly convicted of the murder of Dallas police officer Robert Wood by corrupt system of justice.\n",
      "\n",
      "\n"
     ]
    },
    {
     "data": {
      "text/html": [
       "<img src=\"https://www.metacritic.com/a/img/resize/e0311a102c482d250486f572b8cb454ed6353b51/catalog/provider/2/2/2-7dc8885033329c75d82d5adf2426b39a.jpg?auto=webp&fit=cover&height=132&width=88\"/>"
      ],
      "text/plain": [
       "<IPython.core.display.Image object>"
      ]
     },
     "metadata": {},
     "output_type": "display_data"
    },
    {
     "name": "stdout",
     "output_type": "stream",
     "text": [
      "Title: Bird\n",
      "Release Date: Sep 30, 1988\n",
      "Meta Score: 78\n",
      "Thumbnail: https://www.metacritic.com/a/img/resize/e0311a102c482d250486f572b8cb454ed6353b51/catalog/provider/2/2/2-7dc8885033329c75d82d5adf2426b39a.jpg?auto=webp&fit=cover&height=132&width=88\n",
      "Description: Bird, a film burnished with the magic of that 1946 concert encounter between legend and future legend and honored with an Academy Award for Best Sound in its spellbinding recreation of a man and his music. Like jazz itself, Bird rings with counterpoints and embellishments. Past and future overlap as the film explores Yardbird's soaring skill and destructive excesses. (Warner Bros.)\n",
      "\n",
      "\n"
     ]
    },
    {
     "data": {
      "text/html": [
       "<img src=\"https://www.metacritic.com/a/img/resize/17adf94cf0b5015d78dc3810cf6a0804c1359039/catalog/provider/2/2/2-a192d6632d7cacce507cf4aab981d843.jpg?auto=webp&fit=cover&height=132&width=88\"/>"
      ],
      "text/plain": [
       "<IPython.core.display.Image object>"
      ]
     },
     "metadata": {},
     "output_type": "display_data"
    },
    {
     "name": "stdout",
     "output_type": "stream",
     "text": [
      "Title: Babette's Feast\n",
      "Release Date: Mar 4, 1988\n",
      "Meta Score: 78\n",
      "Thumbnail: https://www.metacritic.com/a/img/resize/17adf94cf0b5015d78dc3810cf6a0804c1359039/catalog/provider/2/2/2-a192d6632d7cacce507cf4aab981d843.jpg?auto=webp&fit=cover&height=132&width=88\n",
      "Description: During the late 19th century, a strict religious community in a Danish village takes in a French refugee from the Franco-Prussian War as a servant to the late pastor's daughters.\n",
      "\n",
      "\n"
     ]
    },
    {
     "data": {
      "text/html": [
       "<img src=\"https://www.metacritic.com/a/img/resize/b7e2d19afd27b8708873784577cde6f342d0092d/catalog/provider/2/2/2-9c1a2490efc9b7654a7898297f1fd398.jpg?auto=webp&fit=cover&height=132&width=88\"/>"
      ],
      "text/plain": [
       "<IPython.core.display.Image object>"
      ]
     },
     "metadata": {},
     "output_type": "display_data"
    },
    {
     "name": "stdout",
     "output_type": "stream",
     "text": [
      "Title: Midnight Run\n",
      "Release Date: Jul 20, 1988\n",
      "Meta Score: 78\n",
      "Thumbnail: https://www.metacritic.com/a/img/resize/b7e2d19afd27b8708873784577cde6f342d0092d/catalog/provider/2/2/2-9c1a2490efc9b7654a7898297f1fd398.jpg?auto=webp&fit=cover&height=132&width=88\n",
      "Description: Bounty hunter Jack Walsh (De Niro) is offered $100,000 from a bail bondsman to capture fugitive accountant Jonathan &quot;the Duke&quot; Mardukas (Grodin) and bring him to Los Angeles in time for his trial date.  Walsh must avoid a rival bounty hunter, the FBI, and the mob to earn his payday.\n",
      "\n",
      "\n"
     ]
    },
    {
     "data": {
      "text/html": [
       "<img src=\"https://www.metacritic.com/a/img/resize/40b1d9b402724e2e6019f0e140bfb7ceebbe3350/catalog/provider/2/2/2-9935b46f91fbb8d505cbd8a820176692.jpg?auto=webp&fit=cover&height=132&width=88\"/>"
      ],
      "text/plain": [
       "<IPython.core.display.Image object>"
      ]
     },
     "metadata": {},
     "output_type": "display_data"
    },
    {
     "name": "stdout",
     "output_type": "stream",
     "text": [
      "Title: Stand and Deliver\n",
      "Release Date: Mar 11, 1988\n",
      "Meta Score: 77\n",
      "Thumbnail: https://www.metacritic.com/a/img/resize/40b1d9b402724e2e6019f0e140bfb7ceebbe3350/catalog/provider/2/2/2-9935b46f91fbb8d505cbd8a820176692.jpg?auto=webp&fit=cover&height=132&width=88\n",
      "Description: The story of Jaime Escalante, a high school teacher who successfully inspired his dropout prone students to learn calculus.\n",
      "\n",
      "\n"
     ]
    },
    {
     "data": {
      "text/html": [
       "<img src=\"https://www.metacritic.com/a/img/resize/704b81cc99a6b2eb42d2bed38477a33b996b6683/catalog/provider/2/2/2-35e0385a41a06286e2e81739006f600e.jpg?auto=webp&fit=cover&height=132&width=88\"/>"
      ],
      "text/plain": [
       "<IPython.core.display.Image object>"
      ]
     },
     "metadata": {},
     "output_type": "display_data"
    },
    {
     "name": "stdout",
     "output_type": "stream",
     "text": [
      "Title: Hairspray\n",
      "Release Date: Feb 26, 1988\n",
      "Meta Score: 77\n",
      "Thumbnail: https://www.metacritic.com/a/img/resize/704b81cc99a6b2eb42d2bed38477a33b996b6683/catalog/provider/2/2/2-35e0385a41a06286e2e81739006f600e.jpg?auto=webp&fit=cover&height=132&width=88\n",
      "Description: In Hairspray, Tracy Turnblad uses her huge hair, big grin and great moves to become the queen of the local TV dance revue, using her newfound popularity to fight for integration in 1962's Baltimore. [New Line Cinema]\n",
      "\n",
      "\n"
     ]
    },
    {
     "data": {
      "text/html": [
       "<img src=\"https://www.metacritic.com/a/img/resize/ed824a146525b996718fcb21004ffcba0514fb33/catalog/provider/2/2/2-f5d76accbe4b7c2aff15d17151d29b24.jpg?auto=webp&fit=cover&height=132&width=88\"/>"
      ],
      "text/plain": [
       "<IPython.core.display.Image object>"
      ]
     },
     "metadata": {},
     "output_type": "display_data"
    },
    {
     "name": "stdout",
     "output_type": "stream",
     "text": [
      "Title: Tucker: The Man and His Dream\n",
      "Release Date: Aug 12, 1988\n",
      "Meta Score: 76\n",
      "Thumbnail: https://www.metacritic.com/a/img/resize/ed824a146525b996718fcb21004ffcba0514fb33/catalog/provider/2/2/2-f5d76accbe4b7c2aff15d17151d29b24.jpg?auto=webp&fit=cover&height=132&width=88\n",
      "Description: In the late 1940s, Preston Tucker had a dream to build the best cars ever made. Pressure from Detroit and government dooms his dream.\n",
      "\n",
      "\n"
     ]
    },
    {
     "data": {
      "text/html": [
       "<img src=\"https://www.metacritic.com/a/img/resize/a9a972f21253054c768be6b0781a040978823673/catalog/provider/2/2/2-2e6a405f589fabe0648bce9bccc75610.jpg?auto=webp&fit=cover&height=132&width=88\"/>"
      ],
      "text/plain": [
       "<IPython.core.display.Image object>"
      ]
     },
     "metadata": {},
     "output_type": "display_data"
    },
    {
     "name": "stdout",
     "output_type": "stream",
     "text": [
      "Title: The Naked Gun: From the Files of Police Squad!\n",
      "Release Date: Dec 2, 1988\n",
      "Meta Score: 76\n",
      "Thumbnail: https://www.metacritic.com/a/img/resize/a9a972f21253054c768be6b0781a040978823673/catalog/provider/2/2/2-2e6a405f589fabe0648bce9bccc75610.jpg?auto=webp&fit=cover&height=132&width=88\n",
      "Description: Leslie Nielsen stars as Police Squad's own granite-jawed, rock-brained cop Frank Drebin, who bumbles across a mind-control scheme to assassinate Queen Elizabeth. Priscilla Presley, O.J. Simpson, a stuffed beaver, two baseball teams and an odd assortment of others join the wacko goings-on and blow the laugh-o-meter to smithereens. (Paramount)\n",
      "\n",
      "\n"
     ]
    },
    {
     "data": {
      "text/html": [
       "<img src=\"https://www.metacritic.com/a/img/resize/7ceac522de010435f5423525a0554cb655f2845a/catalog/provider/2/2/2-b5996c5c1aa9df3059e2666faaf782f4.jpg?auto=webp&fit=cover&height=132&width=88\"/>"
      ],
      "text/plain": [
       "<IPython.core.display.Image object>"
      ]
     },
     "metadata": {},
     "output_type": "display_data"
    },
    {
     "name": "stdout",
     "output_type": "stream",
     "text": [
      "Title: Dangerous Liaisons\n",
      "Release Date: Dec 16, 1988\n",
      "Meta Score: 74\n",
      "Thumbnail: https://www.metacritic.com/a/img/resize/7ceac522de010435f5423525a0554cb655f2845a/catalog/provider/2/2/2-b5996c5c1aa9df3059e2666faaf782f4.jpg?auto=webp&fit=cover&height=132&width=88\n",
      "Description: A cruel wager is made between the beautiful but deviousMarquise de Merteuil (Close) and her former lover, the Vicomte de Valmont (Malkovich). The Marquise challenges Valmont to seduce the virginal Cecile de Volanges (Thurman) before the girl can be wed. As a counter-challenge Valmont bets the Marquise that he will be able to bed the married Madame de Tourvel (Pfeiffer).\n",
      "\n",
      "\n"
     ]
    },
    {
     "data": {
      "text/html": [
       "<img src=\"https://www.metacritic.com/a/img/resize/bfa542f7c2c7c0f64c45cb2a48bf0f31afe86f05/catalog/provider/2/2/2-e1f85f257c9f72ef274f923b9a770eb6.jpg?auto=webp&fit=cover&height=132&width=88\"/>"
      ],
      "text/plain": [
       "<IPython.core.display.Image object>"
      ]
     },
     "metadata": {},
     "output_type": "display_data"
    },
    {
     "name": "stdout",
     "output_type": "stream",
     "text": [
      "Title: The Unbearable Lightness of Being\n",
      "Release Date: Feb 5, 1988\n",
      "Meta Score: 73\n",
      "Thumbnail: https://www.metacritic.com/a/img/resize/bfa542f7c2c7c0f64c45cb2a48bf0f31afe86f05/catalog/provider/2/2/2-e1f85f257c9f72ef274f923b9a770eb6.jpg?auto=webp&fit=cover&height=132&width=88\n",
      "Description: In 1968, a Czech doctor with an active sex life meets a woman who wants monogamy, and then the Soviet invasion further disrupts their lives.\n",
      "\n",
      "\n"
     ]
    },
    {
     "data": {
      "text/html": [
       "<img src=\"https://www.metacritic.com/a/img/resize/22ca989367713f2c16e05fb40d53d5930448490c/catalog/provider/2/2/2-38b9378f422cec3033a0d17a30eb083e.jpg?auto=webp&fit=cover&height=132&width=88\"/>"
      ],
      "text/plain": [
       "<IPython.core.display.Image object>"
      ]
     },
     "metadata": {},
     "output_type": "display_data"
    },
    {
     "name": "stdout",
     "output_type": "stream",
     "text": [
      "Title: Working Girl\n",
      "Release Date: Dec 23, 1988\n",
      "Meta Score: 73\n",
      "Thumbnail: https://www.metacritic.com/a/img/resize/22ca989367713f2c16e05fb40d53d5930448490c/catalog/provider/2/2/2-38b9378f422cec3033a0d17a30eb083e.jpg?auto=webp&fit=cover&height=132&width=88\n",
      "Description: Ambitious secretary Tess McGill (Melanie Griffith) makes her up the corporate ladder with a little creative deception by &quot;taking over&quot; when her boss Katherine Parker (Sigourney Weaver) breaks her leg on a ski trip.\n",
      "\n",
      "\n"
     ]
    },
    {
     "data": {
      "text/html": [
       "<img src=\"https://www.metacritic.com/a/img/resize/73c97e30270c475b349cb1330644f82c18dcf07b/catalog/provider/2/2/2-414739d5bdafba5af86db56def69e1bd.jpg?auto=webp&fit=cover&height=132&width=88\"/>"
      ],
      "text/plain": [
       "<IPython.core.display.Image object>"
      ]
     },
     "metadata": {},
     "output_type": "display_data"
    },
    {
     "name": "stdout",
     "output_type": "stream",
     "text": [
      "Title: Big\n",
      "Release Date: Jun 3, 1988\n",
      "Meta Score: 73\n",
      "Thumbnail: https://www.metacritic.com/a/img/resize/73c97e30270c475b349cb1330644f82c18dcf07b/catalog/provider/2/2/2-414739d5bdafba5af86db56def69e1bd.jpg?auto=webp&fit=cover&height=132&width=88\n",
      "Description: At a carnival, young Josh Baskin wishes he was big only to awake the next morning and discover he is!  With the help of his friend Billy, Josh lands a job at a toy company. But the more he experiences being an adult, the more Josh longs for the simple joys of childhood. [Twentieth Century Fox]\n",
      "\n",
      "\n"
     ]
    },
    {
     "data": {
      "text/html": [
       "<img src=\"https://www.metacritic.com/a/img/resize/7304e801e23527f36581badd6c44e3d7dda5d2a3/catalog/provider/2/2/2-853410e1bc84b9ec4febd1ca300210b5.jpg?auto=webp&fit=cover&height=132&width=88\"/>"
      ],
      "text/plain": [
       "<IPython.core.display.Image object>"
      ]
     },
     "metadata": {},
     "output_type": "display_data"
    },
    {
     "name": "stdout",
     "output_type": "stream",
     "text": [
      "Title: Bull Durham\n",
      "Release Date: Jun 15, 1988\n",
      "Meta Score: 73\n",
      "Thumbnail: https://www.metacritic.com/a/img/resize/7304e801e23527f36581badd6c44e3d7dda5d2a3/catalog/provider/2/2/2-853410e1bc84b9ec4febd1ca300210b5.jpg?auto=webp&fit=cover&height=132&width=88\n",
      "Description: A romantic love story set in the dirt and grit of minor league baseball. Sarandan is a groupie for the Carolina Durham Bulls who chooses a protege each season to school in the art of love. This season she picks the team's untameable pitcher but eventually abides her true passion, the team's catcher, Costner. (MGM)\n",
      "\n",
      "\n"
     ]
    },
    {
     "data": {
      "text/html": [
       "<img src=\"https://www.metacritic.com/a/img/resize/c02ebba9a36cf18eec747bf31de6cf74bdb7dff3/catalog/provider/2/2/2-26272848a8e4871b6e21db49f932ab81.jpg?auto=webp&fit=cover&height=132&width=88\"/>"
      ],
      "text/plain": [
       "<IPython.core.display.Image object>"
      ]
     },
     "metadata": {},
     "output_type": "display_data"
    },
    {
     "name": "stdout",
     "output_type": "stream",
     "text": [
      "Title: Die Hard\n",
      "Release Date: Jul 15, 1988\n",
      "Meta Score: 72\n",
      "Thumbnail: https://www.metacritic.com/a/img/resize/c02ebba9a36cf18eec747bf31de6cf74bdb7dff3/catalog/provider/2/2/2-26272848a8e4871b6e21db49f932ab81.jpg?auto=webp&fit=cover&height=132&width=88\n",
      "Description: When terrorists take over a Los Angeles skyscraper on Christmas Eve, visting New York cop John McClane (Willis) thwarts their plans.\n",
      "\n",
      "\n"
     ]
    }
   ],
   "source": [
    "for movie in movie_data:\n",
    "    display(Image(url=movie[3]))\n",
    "    print(f\"Title: {movie[0]}\")\n",
    "    print(f\"Release Date: {movie[1]}\")\n",
    "    print(f\"Meta Score: {movie[2]}\")\n",
    "    print(f\"Thumbnail: {movie[3]}\")\n",
    "    print(f\"Description: {movie[4]}\")\n",
    "    print(\"\\n\")"
   ]
  }
 ],
 "metadata": {
  "kernelspec": {
   "display_name": "Python 3",
   "language": "python",
   "name": "python3"
  },
  "language_info": {
   "codemirror_mode": {
    "name": "ipython",
    "version": 3
   },
   "file_extension": ".py",
   "mimetype": "text/x-python",
   "name": "python",
   "nbconvert_exporter": "python",
   "pygments_lexer": "ipython3",
   "version": "3.10.7"
  },
  "orig_nbformat": 4
 },
 "nbformat": 4,
 "nbformat_minor": 2
}
